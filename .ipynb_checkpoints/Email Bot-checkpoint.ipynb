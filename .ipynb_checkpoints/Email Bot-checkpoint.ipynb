{
 "cells": [
  {
   "cell_type": "code",
   "execution_count": 9,
   "id": "36d9518c",
   "metadata": {},
   "outputs": [
    {
     "data": {
      "text/plain": [
       "(250,\n",
       " b'smtp.gmail.com at your service, [24.199.169.126]\\nSIZE 35882577\\n8BITMIME\\nSTARTTLS\\nENHANCEDSTATUSCODES\\nPIPELINING\\nCHUNKING\\nSMTPUTF8')"
      ]
     },
     "execution_count": 9,
     "metadata": {},
     "output_type": "execute_result"
    }
   ],
   "source": [
    "import smtplib\n",
    "smtpObj = smtplib.SMTP('smtp.gmail.com', 587) # 587 is the port for Gmail\n",
    "smtpObj.ehlo()"
   ]
  },
  {
   "cell_type": "markdown",
   "id": "2cb89496",
   "metadata": {},
   "source": [
    "If '250' is the first element returned by smtpObj.ehlo(), the connection was successful."
   ]
  },
  {
   "cell_type": "code",
   "execution_count": 10,
   "id": "2cab6105",
   "metadata": {},
   "outputs": [
    {
     "data": {
      "text/plain": [
       "(220, b'2.0.0 Ready to start TLS')"
      ]
     },
     "execution_count": 10,
     "metadata": {},
     "output_type": "execute_result"
    }
   ],
   "source": [
    "smtpObj.starttls() # Start encryption"
   ]
  },
  {
   "cell_type": "code",
   "execution_count": 12,
   "id": "e5c51348",
   "metadata": {},
   "outputs": [
    {
     "data": {
      "text/plain": [
       "(235, b'2.7.0 Accepted')"
      ]
     },
     "execution_count": 12,
     "metadata": {},
     "output_type": "execute_result"
    }
   ],
   "source": [
    "#I had to allow less secure connections on Gmail for this to work\n",
    "smtpObj.login('eure.samuel@gmail.com', 'gG001372291Ffhs!') "
   ]
  },
  {
   "cell_type": "code",
   "execution_count": 13,
   "id": "173f186d",
   "metadata": {},
   "outputs": [
    {
     "data": {
      "text/plain": [
       "{}"
      ]
     },
     "execution_count": 13,
     "metadata": {},
     "output_type": "execute_result"
    }
   ],
   "source": [
    "smtpObj.sendmail('eure.samuel@gmail.com', 'hamillhr@gmail.com', \"Subject: I sent this through Python.\\nHey Love, I'm testing out this email sender. Did it work?\\n Best,\\n Sam\")\n"
   ]
  },
  {
   "cell_type": "code",
   "execution_count": 14,
   "id": "9b75b9a5",
   "metadata": {},
   "outputs": [
    {
     "data": {
      "text/plain": [
       "(221, b'2.0.0 closing connection j184sm1563128qkd.74 - gsmtp')"
      ]
     },
     "execution_count": 14,
     "metadata": {},
     "output_type": "execute_result"
    }
   ],
   "source": [
    "smtpObj.quit()"
   ]
  },
  {
   "cell_type": "code",
   "execution_count": null,
   "id": "6783b0b0",
   "metadata": {},
   "outputs": [],
   "source": []
  }
 ],
 "metadata": {
  "kernelspec": {
   "display_name": "Python 3",
   "language": "python",
   "name": "python3"
  },
  "language_info": {
   "codemirror_mode": {
    "name": "ipython",
    "version": 3
   },
   "file_extension": ".py",
   "mimetype": "text/x-python",
   "name": "python",
   "nbconvert_exporter": "python",
   "pygments_lexer": "ipython3",
   "version": "3.8.2"
  }
 },
 "nbformat": 4,
 "nbformat_minor": 5
}
