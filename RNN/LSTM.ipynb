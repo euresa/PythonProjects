{
 "cells": [
  {
   "cell_type": "code",
   "execution_count": 1,
   "id": "c3610e84",
   "metadata": {},
   "outputs": [],
   "source": [
    "import tensorflow as tf\n",
    "from bs4 import BeautifulSoup\n",
    "import requests\n",
    "\n",
    "import os\n",
    "import numpy as np\n",
    "from tqdm import tqdm\n",
    "import matplotlib.pyplot as plt"
   ]
  },
  {
   "cell_type": "code",
   "execution_count": 2,
   "id": "e074b241",
   "metadata": {},
   "outputs": [],
   "source": [
    "# Text document of Jane Eyre, by Charlotte Brontë\n",
    "response = requests.get(\"https://www.gutenberg.org/files/1260/1260-0.txt\")\n",
    "soup_doc = BeautifulSoup(response.content, \"html.parser\")\n",
    "raw_string_data = soup_doc.text\n",
    "vocabulary = sorted(set(raw_string_data))\n",
    "\n",
    "# Creating maps from character values to numerical representations\n",
    "string2index = {s:i for i, s in enumerate(vocabulary)}\n",
    "index2string = np.array(vocabulary)\n",
    "\n",
    "def vectorize_string(raw_string):\n",
    "    return np.array([string2index[s] for s in raw_string])\n",
    "\n",
    "def find_string_from_vector(vectorized_data):\n",
    "    return \"\".join([index2string[i] for i in vectorized_data])\n",
    "\n",
    "\n",
    "vectorized_data = vectorize_string(raw_string_data)\n",
    "\n",
    "def get_batch(vectorized_data, batch_size, seq_length):\n",
    "    last_idx_of_data = vectorized_data.shape[0] - 1\n",
    "\n",
    "    starting_indices_of_samples = np.random.choice(last_idx_of_data - seq_length, batch_size)\n",
    "\n",
    "    input_batch = np.array([vectorized_data[idx : idx + seq_length] for idx in starting_indices_of_samples])\n",
    "    # The target sequences are the x_batch sequences shifted over once to the right\n",
    "    target_batch = np.array([vectorized_data[(idx + 1) : (idx + 1) + seq_length] for idx in starting_indices_of_samples])\n",
    "    x_batch = np.reshape(input_batch, [batch_size, seq_length])\n",
    "    y_batch = np.reshape(target_batch, [batch_size, seq_length])\n",
    "    return(x_batch, y_batch)\n",
    "  \n"
   ]
  },
  {
   "cell_type": "code",
   "execution_count": 3,
   "id": "fb7cb2a8",
   "metadata": {},
   "outputs": [],
   "source": [
    "# I don't know too much about tenforflow's default setup of an LSTM model, \n",
    "#   so I'll use what I've seen used in the past for this sort of thing.\n",
    "def LSTM(rnn_units): \n",
    "    return tf.keras.layers.LSTM(\n",
    "      rnn_units, \n",
    "      return_sequences=True, \n",
    "      recurrent_initializer='glorot_uniform',\n",
    "      recurrent_activation='sigmoid',\n",
    "      stateful=True,\n",
    "    )\n",
    "\n",
    "def develop_model(vocab_size, embedding_dim, rnn_units, batch_size):\n",
    "    model = tf.keras.Sequential([\n",
    "                               tf.keras.layers.Embedding(input_dim = vocab_size,\n",
    "                                                         output_dim = embedding_dim,\n",
    "                                                         batch_input_shape = [batch_size, None]),\n",
    "                               LSTM(rnn_units = rnn_units),\n",
    "                               tf.keras.layers.Dense(units = vocab_size)\n",
    "    ])\n",
    "    return model"
   ]
  },
  {
   "cell_type": "code",
   "execution_count": 4,
   "id": "c3600461",
   "metadata": {},
   "outputs": [
    {
     "name": "stdout",
     "output_type": "stream",
     "text": [
      "Model: \"sequential\"\n",
      "_________________________________________________________________\n",
      "Layer (type)                 Output Shape              Param #   \n",
      "=================================================================\n",
      "embedding (Embedding)        (32, None, 256)           26112     \n",
      "_________________________________________________________________\n",
      "lstm (LSTM)                  (32, None, 1024)          5246976   \n",
      "_________________________________________________________________\n",
      "dense (Dense)                (32, None, 102)           104550    \n",
      "=================================================================\n",
      "Total params: 5,377,638\n",
      "Trainable params: 5,377,638\n",
      "Non-trainable params: 0\n",
      "_________________________________________________________________\n"
     ]
    }
   ],
   "source": [
    "vocab_size = len(vocabulary)\n",
    "embedding_dim = embedding_dim = 2**8\n",
    "batch_size = 2**5\n",
    "rnn_units = 2**10\n",
    "model = develop_model(vocab_size, embedding_dim, rnn_units, batch_size)\n",
    "model.summary()"
   ]
  },
  {
   "cell_type": "code",
   "execution_count": 5,
   "id": "0767de33",
   "metadata": {},
   "outputs": [],
   "source": [
    "def calc_cross_entropy_loss(target_labels, prediction_logits):\n",
    "    loss = tf.keras.losses.sparse_categorical_crossentropy(target_labels, prediction_logits, from_logits=True)\n",
    "    return loss"
   ]
  },
  {
   "cell_type": "code",
   "execution_count": 6,
   "id": "842d4c28",
   "metadata": {},
   "outputs": [],
   "source": [
    "checkpoint_dir = './training_checkpoints'\n",
    "checkpoint_prefix = os.path.join(checkpoint_dir, \"my_ckpt\")\n",
    "if not os.path.exists(checkpoint_dir):\n",
    "    os.mkdir(checkpoint_dir)\n",
    "assert os.path.exists(checkpoint_dir)"
   ]
  },
  {
   "cell_type": "code",
   "execution_count": 7,
   "id": "3d739d8c",
   "metadata": {},
   "outputs": [],
   "source": [
    "### Hyperparameters ###\n",
    "\n",
    "# For training optimization\n",
    "epochs = 2000\n",
    "batch_size = 2**4\n",
    "sequence_length = 100\n",
    "learning_rate = 1e-3\n",
    "\n",
    "# For the model itself\n",
    "vocab_size = len(vocabulary)\n",
    "embedding_dim = 2**8\n",
    "rnn_units = 2**9"
   ]
  },
  {
   "cell_type": "code",
   "execution_count": 92,
   "id": "4ddc9a51",
   "metadata": {},
   "outputs": [
    {
     "name": "stderr",
     "output_type": "stream",
     "text": [
      "100%|██████████| 2000/2000 [55:06<00:00,  1.65s/it] \n"
     ]
    },
    {
     "data": {
      "text/plain": [
       "[<matplotlib.lines.Line2D at 0x1529abd30>]"
      ]
     },
     "execution_count": 92,
     "metadata": {},
     "output_type": "execute_result"
    },
    {
     "data": {
      "image/png": "[encoded data removed]",
      "text/plain": [
       "<Figure size 432x288 with 1 Axes>"
      ]
     },
     "metadata": {
      "needs_background": "light"
     },
     "output_type": "display_data"
    }
   ],
   "source": [
    "# Build model\n",
    "model = develop_model(vocab_size, embedding_dim, rnn_units, batch_size)\n",
    "model.load_weights(tf.train.latest_checkpoint(checkpoint_dir))\n",
    "# Define optimizer for training\n",
    "optimizer = tf.keras.optimizers.Adam(learning_rate)\n",
    "\n",
    "# Defining training steps\n",
    "def take_training_step(model, optimizer, loss_function, x_batch, y_batch):\n",
    "    with tf.GradientTape() as tape:\n",
    "        prediction_batch_logits = model(x_batch)\n",
    "        loss = loss_function(y_batch, prediction_batch_logits)\n",
    "\n",
    "    gradients = tape.gradient(loss, model.trainable_variables)\n",
    "    optimizer.apply_gradients(zip(gradients, model.trainable_variables))\n",
    "    return loss\n",
    "\n",
    "# Train the model!\n",
    "loss_history = []\n",
    "\n",
    "for epoch in tqdm(range(epochs)):\n",
    "    x_batch, y_batch = get_batch(vectorized_data, batch_size, seq_length = sequence_length)\n",
    "    batch_loss = take_training_step(model, optimizer, calc_cross_entropy_loss, x_batch, y_batch)\n",
    "    loss_history.append(batch_loss.numpy().mean())\n",
    "    if epoch % 100 == 0:     \n",
    "        model.save_weights(checkpoint_prefix)\n",
    "\n",
    "model.save_weights(checkpoint_prefix)\n",
    "plt.plot(loss_history)\n"
   ]
  },
  {
   "cell_type": "code",
   "execution_count": 8,
   "id": "11e506df",
   "metadata": {},
   "outputs": [
    {
     "data": {
      "text/plain": [
       "['./training_checkpoints/checkpoint',\n",
       " './training_checkpoints/my_ckpt.index',\n",
       " './training_checkpoints/my_ckpt.data-00000-of-00001']"
      ]
     },
     "execution_count": 8,
     "metadata": {},
     "output_type": "execute_result"
    }
   ],
   "source": [
    "from glob import glob\n",
    "glob(\"./training_checkpoints/*\")"
   ]
  },
  {
   "cell_type": "code",
   "execution_count": 9,
   "id": "c15a3019",
   "metadata": {},
   "outputs": [
    {
     "name": "stdout",
     "output_type": "stream",
     "text": [
      "Model: \"sequential_1\"\n",
      "_________________________________________________________________\n",
      "Layer (type)                 Output Shape              Param #   \n",
      "=================================================================\n",
      "embedding_1 (Embedding)      (1, None, 256)            26112     \n",
      "_________________________________________________________________\n",
      "lstm_1 (LSTM)                (1, None, 512)            1574912   \n",
      "_________________________________________________________________\n",
      "dense_1 (Dense)              (1, None, 102)            52326     \n",
      "=================================================================\n",
      "Total params: 1,653,350\n",
      "Trainable params: 1,653,350\n",
      "Non-trainable params: 0\n",
      "_________________________________________________________________\n"
     ]
    }
   ],
   "source": [
    "model = develop_model(vocab_size, embedding_dim, rnn_units, batch_size=1)\n",
    "model.load_weights(tf.train.latest_checkpoint(checkpoint_dir))\n",
    "model.build(tf.TensorShape([1, None]))\n",
    "\n",
    "model.summary()"
   ]
  },
  {
   "cell_type": "code",
   "execution_count": 131,
   "id": "075b53ed",
   "metadata": {},
   "outputs": [
    {
     "name": "stderr",
     "output_type": "stream",
     "text": [
      "100%|██████████| 200/200 [00:06<00:00, 29.59it/s]"
     ]
    },
    {
     "name": "stdout",
     "output_type": "stream",
     "text": [
      "Mr. Rochester be quelled\r\n",
      "heads and locks, and below;\r\n",
      "she was in the cold: Sam\r\n",
      "not being a misful of figure, name down\r\n",
      "on my open Eliza? If you person with\r\n",
      "their occupation.\r\n",
      "\r\n",
      "After a pocket used—a\r\n",
      "season’s v\n"
     ]
    },
    {
     "name": "stderr",
     "output_type": "stream",
     "text": [
      "\n"
     ]
    }
   ],
   "source": [
    "def generate_string_data(model, start_string, length = 100):\n",
    "    vector_input = vectorize_string(start_string)\n",
    "    tensor_input = tf.expand_dims(vector_input, 0)\n",
    "    \n",
    "    model.reset_states()\n",
    "    generated_char_list = [start_string]\n",
    "    for i in tqdm(range(length)):\n",
    "        predictions_tensor = model(tensor_input)\n",
    "        predictions_vector = tf.squeeze(predictions_tensor, 0)\n",
    "        predicted_id = tf.random.categorical(predictions_vector, num_samples = 1)[-1,0].numpy()\n",
    "    \n",
    "        vector_input = np.delete(vector_input, 0)\n",
    "        vector_input = np.append(vector_input, predicted_id)\n",
    "        tensor_input = tf.expand_dims(vector_input, 0)\n",
    "    \n",
    "        generated_char_list.append(index2string[predicted_id])\n",
    "    return \"\".join(generated_char_list)\n",
    "\n",
    "print(generate_string_data(model = model, start_string = \"Mr. Rochester \", length = 200))"
   ]
  }
 ],
 "metadata": {
  "kernelspec": {
   "display_name": "Python 3",
   "language": "python",
   "name": "python3"
  },
  "language_info": {
   "codemirror_mode": {
    "name": "ipython",
    "version": 3
   },
   "file_extension": ".py",
   "mimetype": "text/x-python",
   "name": "python",
   "nbconvert_exporter": "python",
   "pygments_lexer": "ipython3",
   "version": "3.8.2"
  }
 },
 "nbformat": 4,
 "nbformat_minor": 5
}
