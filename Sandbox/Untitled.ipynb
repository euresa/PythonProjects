{
 "cells": [
  {
   "cell_type": "code",
   "execution_count": 22,
   "id": "135912be",
   "metadata": {},
   "outputs": [],
   "source": [
    "def nearest_square(n):\n",
    "    \"\"\"Returns the nearest perfect-square that is less than or equal to \n",
    "    a number 'n' given.\"\"\"\n",
    "    if n < 1:\n",
    "        return 0\n",
    "    square_root = n**.5\n",
    "    return int((square_root//1)**2)"
   ]
  },
  {
   "cell_type": "code",
   "execution_count": 27,
   "id": "9ea64434",
   "metadata": {},
   "outputs": [
    {
     "data": {
      "text/plain": [
       "16"
      ]
     },
     "execution_count": 27,
     "metadata": {},
     "output_type": "execute_result"
    }
   ],
   "source": [
    "nearest_square(16)"
   ]
  },
  {
   "cell_type": "code",
   "execution_count": null,
   "id": "e3ca626f",
   "metadata": {},
   "outputs": [],
   "source": []
  }
 ],
 "metadata": {
  "kernelspec": {
   "display_name": "Python 3",
   "language": "python",
   "name": "python3"
  },
  "language_info": {
   "codemirror_mode": {
    "name": "ipython",
    "version": 3
   },
   "file_extension": ".py",
   "mimetype": "text/x-python",
   "name": "python",
   "nbconvert_exporter": "python",
   "pygments_lexer": "ipython3",
   "version": "3.8.2"
  }
 },
 "nbformat": 4,
 "nbformat_minor": 5
}
